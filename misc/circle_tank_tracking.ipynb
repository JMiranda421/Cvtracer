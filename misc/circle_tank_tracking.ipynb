{
 "cells": [
  {
   "cell_type": "code",
   "execution_count": 1,
   "metadata": {},
   "outputs": [],
   "source": [
    "import numpy as np\n",
    "import pandas as pd\n",
    "import sys\n",
    "sys.path.insert(0, '/home/apatch/miniconda3/bin/tracktor/tracktor')\n",
    "import tracktor as tr\n",
    "import cv2\n",
    "import sys\n",
    "import scipy.signal\n",
    "from scipy.optimize import linear_sum_assignment\n",
    "from scipy.spatial.distance import cdist"
   ]
  },
  {
   "cell_type": "markdown",
   "metadata": {},
   "source": [
    "## Global parameters\n",
    "This cell (below) enlists user-defined parameters"
   ]
  },
  {
   "cell_type": "code",
   "execution_count": 2,
   "metadata": {},
   "outputs": [],
   "source": [
    "# colours is a vector of BGR values which are used to identify individuals in the video\n",
    "# since we only have one individual, the program will only use the first element from this array i.e. (0,0,255) - red\n",
    "# number of elements in colours should be greater than n_inds (THIS IS NECESSARY FOR VISUALISATION ONLY)\n",
    "n_inds = 5\n",
    "colours = [(0,0,255),(0,255,255),(255,0,255),(255,255,255),(255,255,0),(255,0,0),(0,255,0),(0,0,0)]\n",
    "\n",
    "# this is the block_size and offset used for adaptive thresholding (block_size should always be odd)\n",
    "# these values are critical for tracking performance\n",
    "block_size = 15\n",
    "offset = 13\n",
    "\n",
    "# the scaling parameter can be used to speed up tracking if video resolution is too high (use value 0-1)\n",
    "scaling = 1.0\n",
    "\n",
    "# minimum area and maximum area occupied by the animal in number of pixels\n",
    "# this parameter is used to get rid of other objects in view that might be hard to threshold out but are differently sized\n",
    "min_area = 20\n",
    "max_area = 1000\n",
    "\n",
    "# mot determines whether the tracker is being used in noisy conditions to track a single object or for multi-object\n",
    "# using this will enable k-means clustering to force n_inds number of animals\n",
    "mot = True\n",
    "kmeans_all = False\n",
    "\n",
    "# name of source video and paths\n",
    "#video = 'test'\n",
    "#video = '05SF_20m_30fps'\n",
    "video = 'SFgroupOf5_t2_20scut'\n",
    "home_path = '/data1/cavefish/experiment/'\n",
    "input_vidpath = home_path + 'raw/CircleTank/20190116/' + video + '.avi'\n",
    "output_vidpath = home_path +'output/' + video + '_tracked.avi'\n",
    "output_filepath = home_path + 'output/' + video + '_tracked.dat'\n",
    "codec = 'DIVX' # try other codecs if the default doesn't work ('DIVX', 'avc1', 'XVID') note: this list is non-exhaustive"
   ]
  },
  {
   "cell_type": "markdown",
   "metadata": {},
   "source": [
    "The cell below runs the tracking code"
   ]
  },
  {
   "cell_type": "code",
   "execution_count": 3,
   "metadata": {},
   "outputs": [
    {
     "ename": "SystemExit",
     "evalue": "Video file cannot be read! Please check input_vidpath to ensure it is correctly pointing to the video file.",
     "output_type": "error",
     "traceback": [
      "An exception has occurred, use %tb to see the full traceback.\n",
      "\u001b[0;31mSystemExit\u001b[0m\u001b[0;31m:\u001b[0m Video file cannot be read! Please check input_vidpath to ensure it is correctly pointing to the video file.\n"
     ]
    },
    {
     "name": "stderr",
     "output_type": "stream",
     "text": [
      "/home/apatch/miniconda3/lib/python3.7/site-packages/IPython/core/interactiveshell.py:3275: UserWarning: To exit: use 'exit', 'quit', or Ctrl-D.\n",
      "  warn(\"To exit: use 'exit', 'quit', or Ctrl-D.\", stacklevel=1)\n"
     ]
    }
   ],
   "source": [
    "## Open video\n",
    "cap = cv2.VideoCapture(input_vidpath)\n",
    "if cap.isOpened() == False:\n",
    "    sys.exit('Video file cannot be read! Please check input_vidpath to ensure it is correctly pointing to the video file.')\n",
    "\n",
    "## Video writer class to output video with contour and centroid of tracked object(s)\n",
    "# make sure the frame size matches size of array 'final'\n",
    "fourcc = cv2.VideoWriter_fourcc(*codec)\n",
    "output_framesize = (int(cap.read()[1].shape[1]*scaling),int(cap.read()[1].shape[0]*scaling))\n",
    "out = cv2.VideoWriter(filename = output_vidpath, fourcc = fourcc, fps = 30.0, frameSize = output_framesize, isColor = True)\n",
    "\n",
    "## Individual location(s) measured in the last and current step\n",
    "meas_last = list(np.zeros((n_inds,2)))\n",
    "meas_now = list(np.zeros((n_inds,2)))\n",
    "\n",
    "last = 0\n",
    "df = []\n",
    "frame_num = 0\n",
    "fps = 30.\n",
    "\n",
    "while(True):\n",
    "    # Capture frame-by-frame\n",
    "    ret, frame = cap.read()\n",
    "\n",
    "    this = cap.get(1)\n",
    "    if ret == True:\n",
    "        frame = cv2.resize(frame, None, fx = scaling, fy = scaling, interpolation = cv2.INTER_LINEAR)\n",
    "        thresh = tr.colour_to_thresh(frame, block_size, offset)\n",
    "        final, contours, meas_last, meas_now = tr.detect_and_draw_contours(frame, thresh, meas_last, meas_now, min_area, max_area)\n",
    "        if kmeans_all or ( mot and len(meas_now) != n_inds): \n",
    "            contours,meas_now = tr.apply_k_means(contours,n_inds,meas_now)\n",
    "        row_ind, col_ind = tr.hungarian_algorithm(meas_last, meas_now)\n",
    "        final, meas_now, df = tr.reorder_and_draw(final, colours, n_inds, col_ind, meas_now, df, mot, this)\n",
    "        \n",
    "        \n",
    "        # Create output dataframe\n",
    "        outputlist = []\n",
    "        outputlist.append(len(meas_now))\n",
    "        #distlist = cdist(meas_last,meas_now)\n",
    "        for i in range(len(meas_now)):\n",
    "            #outputlist.append(distlist[i])\n",
    "            outputlist.append(meas_now[i][0])\n",
    "            outputlist.append(meas_now[i][1])\n",
    "            \n",
    "            #df.append([this, meas_now[i][0], meas_now[i][1]])\n",
    "        \n",
    "        # Create line of output\n",
    "        df.append(outputlist)\n",
    "        \n",
    "        # Display the resulting frame\n",
    "        out.write(final)\n",
    "        cv2.imshow('frame', final)\n",
    "        if cv2.waitKey(1) == 27 or meas_now[0][0] < 20 or meas_now[0][0] > cap.get(3) - 20 or meas_now[0][1] < 20 or meas_now[0][1] > cap.get(4) - 20:\n",
    "            break\n",
    "            \n",
    "    frame_num += 1\n",
    "    if last >= this:\n",
    "        break\n",
    "    \n",
    "    last = this\n",
    "\n",
    "## Write positions to file\n",
    "f = open(output_filepath,'w')\n",
    "# write header\n",
    "header = \"#  frame  time  n_id\"\n",
    "for i in range(n_inds):\n",
    "    header += \"  pos\" + str(i) + \"_x  pos\" + str(i) + \"_y\"\n",
    "f.write(header + \"\\n\")\n",
    "# write data\n",
    "for i in range(len(df)):\n",
    "    line = \" %7i %10.5f %i\" % (i,float(i)/fps,df[i][0])\n",
    "    for j in range(n_inds):\n",
    "        if ( j >= (len(df[i])-1)/2 ):\n",
    "            line += \"    -     - \"\n",
    "        else:\n",
    "            line += \" %10.5f %10.5f\" % (df[i][2*j+1],df[i][2*j+2])\n",
    "    line += \"\\n\"\n",
    "    f.write(line)\n",
    "\n",
    "\n",
    "## When everything done, release the capture\n",
    "cap.release()\n",
    "out.release()\n",
    "cv2.destroyAllWindows()\n",
    "cv2.waitKey(1)"
   ]
  },
  {
   "cell_type": "code",
   "execution_count": null,
   "metadata": {},
   "outputs": [],
   "source": []
  }
 ],
 "metadata": {
  "kernelspec": {
   "display_name": "Python 3",
   "language": "python",
   "name": "python3"
  },
  "language_info": {
   "codemirror_mode": {
    "name": "ipython",
    "version": 3
   },
   "file_extension": ".py",
   "mimetype": "text/x-python",
   "name": "python",
   "nbconvert_exporter": "python",
   "pygments_lexer": "ipython3",
   "version": "3.7.1"
  }
 },
 "nbformat": 4,
 "nbformat_minor": 2
}
