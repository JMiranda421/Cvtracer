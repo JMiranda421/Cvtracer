{
 "cells": [
  {
   "cell_type": "markdown",
   "metadata": {},
   "source": [
    "# Preparing a Trial"
   ]
  },
  {
   "cell_type": "markdown",
   "metadata": {},
   "source": [
    "## Getting started"
   ]
  },
  {
   "cell_type": "markdown",
   "metadata": {},
   "source": [
    "Before we can start tracking fish, we will need to give `cv-tracer` some more information. You can do this in two steps. \n",
    "1. Enter trial-specific information.\n",
    "2. Initialize a new `Trial` object. This will open a GUI that allows you to identify the tank walls.\n",
    "\n",
    "Once you have entered this information and identified the walls you have prepared the run for tracking."
   ]
  },
  {
   "cell_type": "markdown",
   "metadata": {},
   "source": [
    "## Running the code"
   ]
  },
  {
   "cell_type": "markdown",
   "metadata": {},
   "source": [
    "First we need to import some python libraries including the Trial object from cv-tracer."
   ]
  },
  {
   "cell_type": "code",
   "execution_count": 1,
   "metadata": {},
   "outputs": [],
   "source": [
    "import sys\n",
    "cvhome=\"/home/apatch/Code/cv-tracer\"\n",
    "sys.path.insert(0, cvhome)\n",
    "import os\n",
    "import argparse\n",
    "from TrAQ.Trial import Trial"
   ]
  },
  {
   "cell_type": "markdown",
   "metadata": {},
   "source": [
    "Now that we have loaded the libraries we need, we can start this trial by entering the following information. Make sure you're entering data specific to this trial."
   ]
  },
  {
   "cell_type": "code",
   "execution_count": 2,
   "metadata": {},
   "outputs": [],
   "source": [
    "raw_video   = \"\"\n",
    "n           =  5\n",
    "t           = \"Pa\"\n",
    "date        = 20200514\n",
    "fps         =  15 \n",
    "tank_radius =  10 #cm\n",
    "t_start     =  60 #sec\n",
    "t_end       = 360 #sec"
   ]
  },
  {
   "cell_type": "markdown",
   "metadata": {},
   "source": [
    "You can initialize a trial by running the next block of code. This creates a Trial object that you will be modifying as you add tracks from the run. This will be saved as 'trial.pik'.\n",
    "\n",
    "1. Upon initializing the `Trial` object, you will be presented a Graphical User Interface (GUI). This should show you an image from the video you're going to track. \n",
    "\n",
    "2. Using the GUI, you will identify walls by clicking on three points that fall at the very edge of the water. Ideally these will be spaced far away from each other on the edge of the arena. If you make a mistake, just keep clicking until you have three green points that look good.\n",
    "\n",
    "3. Once the three points have been identified, you can press `Enter` or `Return` and a circle traced through the three points should appear. If it looks good, click inside the circle, the box will fill and then you can press `Enter` again to complete the task."
   ]
  },
  {
   "cell_type": "code",
   "execution_count": null,
   "metadata": {},
   "outputs": [],
   "source": [
    "trial = Trial(raw_video, \n",
    "              n = n, \n",
    "              t = t, \n",
    "              date = date,\n",
    "              fps = fps, \n",
    "              tank_radius = tank_radius,\n",
    "              t_start = t_start, \n",
    "              t_end = t_end )"
   ]
  },
  {
   "cell_type": "markdown",
   "metadata": {},
   "source": [
    " ## Save and move on"
   ]
  },
  {
   "cell_type": "markdown",
   "metadata": {},
   "source": [
    "If you've made it this far, nice job! You initialized a Trial object. Run the final command to save as `trial.pik`."
   ]
  },
  {
   "cell_type": "code",
   "execution_count": null,
   "metadata": {},
   "outputs": [],
   "source": [
    "trial.save()"
   ]
  }
 ],
 "metadata": {
  "kernelspec": {
   "display_name": "Python 3",
   "language": "python",
   "name": "python3"
  },
  "language_info": {
   "codemirror_mode": {
    "name": "ipython",
    "version": 3
   },
   "file_extension": ".py",
   "mimetype": "text/x-python",
   "name": "python",
   "nbconvert_exporter": "python",
   "pygments_lexer": "ipython3",
   "version": "3.7.7"
  }
 },
 "nbformat": 4,
 "nbformat_minor": 2
}
